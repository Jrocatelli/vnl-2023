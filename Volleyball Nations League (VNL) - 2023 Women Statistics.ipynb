{
 "cells": [
  {
   "cell_type": "markdown",
   "id": "6335e987",
   "metadata": {},
   "source": [
    "# Extracting data for Volleyball Nations League statistics analysis"
   ]
  },
  {
   "cell_type": "markdown",
   "id": "71ad09ae",
   "metadata": {},
   "source": [
    "Hello!\n",
    "\n",
    "In this Jupyter Notebook, I will extract data about women players of the Volleyball Nations League from the [official website](https://en.volleyballworld.com/volleyball/competitions/volleyball-nations-league/2023/finals-statistics/). This data will be used in future analyses, which will be available in the same repository on GitHub. Feel free to explore the other parts of the project, and if you have any questions or suggestions, please don't hesitate to [reach out](https://www.linkedin.com/in/jrocatelli/)!"
   ]
  },
  {
   "cell_type": "code",
   "execution_count": 1,
   "id": "1edacb78",
   "metadata": {},
   "outputs": [],
   "source": [
    "# Importing libraries\n",
    "\n",
    "import requests\n",
    "from bs4 import BeautifulSoup\n",
    "import pandas as pd"
   ]
  },
  {
   "cell_type": "markdown",
   "id": "e984daf6",
   "metadata": {},
   "source": [
    "## 1. Statistics"
   ]
  },
  {
   "cell_type": "markdown",
   "id": "06099bd1",
   "metadata": {},
   "source": [
    "I'll create 7 different dataframes: `best_scorers`, `best_attackers`, `best_blockers`, `best_servers`, `best_setters`, `best_diggers`, and `best_receivers`, each representing a specific action in volleyball as presented in these stats."
   ]
  },
  {
   "cell_type": "code",
   "execution_count": 18,
   "id": "8b398881",
   "metadata": {},
   "outputs": [
    {
     "name": "stdout",
     "output_type": "stream",
     "text": [
      "200\n",
      "200\n",
      "200\n",
      "200\n",
      "200\n",
      "200\n",
      "200\n"
     ]
    }
   ],
   "source": [
    "# Sending GET requests to the webpage.\n",
    "\n",
    "url_requests = [\"https://en.volleyballworld.com/volleyball/competitions/volleyball-nations-league/2023/finals-statistics/women/best-scorers/\",\n",
    "                \"https://en.volleyballworld.com/volleyball/competitions/volleyball-nations-league/2023/statistics/women/best-attackers/\",\n",
    "                \"https://en.volleyballworld.com/volleyball/competitions/volleyball-nations-league/2023/finals-statistics/women/best-blockers/\",\n",
    "                \"https://en.volleyballworld.com/volleyball/competitions/volleyball-nations-league/2023/finals-statistics/women/best-servers/\",\n",
    "                \"https://en.volleyballworld.com/volleyball/competitions/volleyball-nations-league/2023/finals-statistics/women/best-setters/\",\n",
    "                \"https://en.volleyballworld.com/volleyball/competitions/volleyball-nations-league/2023/finals-statistics/women/best-diggers/\",\n",
    "                \"https://en.volleyballworld.com/volleyball/competitions/volleyball-nations-league/2023/finals-statistics/women/best-receivers/\"]\n",
    "\n",
    "req_scorers = requests.get(url_requests[0])\n",
    "req_attackers = requests.get(url_requests[1])\n",
    "req_blockers = requests.get(url_requests[2])\n",
    "req_servers = requests.get(url_requests[3])\n",
    "req_setters = requests.get(url_requests[4])\n",
    "req_diggers = requests.get(url_requests[5])\n",
    "req_receivers = requests.get(url_requests[6])\n",
    "\n",
    "reqs = [req_scorers, req_attackers, req_blockers, req_servers, req_setters, req_diggers, req_receivers]\n",
    "\n",
    "# If the status = 200, it worked well\n",
    "\n",
    "for element in reqs:\n",
    "    print(element.status_code)"
   ]
  },
  {
   "cell_type": "code",
   "execution_count": 20,
   "id": "edccecd0",
   "metadata": {},
   "outputs": [],
   "source": [
    "# HTML content with BeautifulSoup\n",
    "\n",
    "Soup = []\n",
    "\n",
    "for element in reqs:\n",
    "    Soup.append(BeautifulSoup(element.text, 'lxml'))"
   ]
  },
  {
   "cell_type": "code",
   "execution_count": 21,
   "id": "0b376efd",
   "metadata": {},
   "outputs": [],
   "source": [
    "# Finding the tables\n",
    "\n",
    "table = []\n",
    "\n",
    "for element in Soup:\n",
    "    table.append(element.find('table'))"
   ]
  },
  {
   "cell_type": "code",
   "execution_count": 20,
   "id": "c7821e8e",
   "metadata": {},
   "outputs": [],
   "source": [
    "# Function to create the dataframes\n",
    "\n",
    "def create_table(table):\n",
    "    \n",
    "    heading_table = []\n",
    "    content = []\n",
    "    \n",
    "    for row in table.find_all('th'):\n",
    "        heading_table.append(row.text)\n",
    "    \n",
    "    for row in table.find_all('tr'):\n",
    "        if not row.find_all('th'):\n",
    "            content.append([element.text for element in row.find_all('td')])\n",
    "        \n",
    "        \n",
    "    return pd.DataFrame(content, columns=heading_table)"
   ]
  },
  {
   "cell_type": "code",
   "execution_count": 32,
   "id": "a14cce6a",
   "metadata": {},
   "outputs": [],
   "source": [
    "# Creating dataframes\n",
    "\n",
    "best_scorers = create_table(table[0])\n",
    "best_attackers = create_table(table[1])\n",
    "best_blockers = create_table(table[2])\n",
    "best_servers = create_table(table[3])\n",
    "best_setters = create_table(table[4])\n",
    "best_diggers = create_table(table[5])\n",
    "best_receivers = create_table(table[6])"
   ]
  },
  {
   "cell_type": "code",
   "execution_count": 38,
   "id": "599dbdbf",
   "metadata": {},
   "outputs": [
    {
     "data": {
      "text/html": [
       "<div>\n",
       "<style scoped>\n",
       "    .dataframe tbody tr th:only-of-type {\n",
       "        vertical-align: middle;\n",
       "    }\n",
       "\n",
       "    .dataframe tbody tr th {\n",
       "        vertical-align: top;\n",
       "    }\n",
       "\n",
       "    .dataframe thead th {\n",
       "        text-align: right;\n",
       "    }\n",
       "</style>\n",
       "<table border=\"1\" class=\"dataframe\">\n",
       "  <thead>\n",
       "    <tr style=\"text-align: right;\">\n",
       "      <th></th>\n",
       "      <th>Shirt NumberShirt</th>\n",
       "      <th>Player NamePlayer</th>\n",
       "      <th>TeamTeam</th>\n",
       "      <th>PointsPts</th>\n",
       "      <th>Attack PointsA Pts</th>\n",
       "      <th>Block PointsB Pts</th>\n",
       "      <th>Serve PointsS Pts</th>\n",
       "    </tr>\n",
       "  </thead>\n",
       "  <tbody>\n",
       "    <tr>\n",
       "      <th>0</th>\n",
       "      <td>4</td>\n",
       "      <td>Vargas Melissa Teresa</td>\n",
       "      <td>TUR</td>\n",
       "      <td>65</td>\n",
       "      <td>55</td>\n",
       "      <td>5</td>\n",
       "      <td>5</td>\n",
       "    </tr>\n",
       "    <tr>\n",
       "      <th>1</th>\n",
       "      <td>9</td>\n",
       "      <td>Stysiak Magdalena</td>\n",
       "      <td>POL</td>\n",
       "      <td>56</td>\n",
       "      <td>52</td>\n",
       "      <td>1</td>\n",
       "      <td>3</td>\n",
       "    </tr>\n",
       "    <tr>\n",
       "      <th>2</th>\n",
       "      <td>12</td>\n",
       "      <td>Li Yingying</td>\n",
       "      <td>CHN</td>\n",
       "      <td>51</td>\n",
       "      <td>48</td>\n",
       "      <td>2</td>\n",
       "      <td>1</td>\n",
       "    </tr>\n",
       "    <tr>\n",
       "      <th>3</th>\n",
       "      <td>11</td>\n",
       "      <td>Lukasik Martyna</td>\n",
       "      <td>POL</td>\n",
       "      <td>38</td>\n",
       "      <td>35</td>\n",
       "      <td>1</td>\n",
       "      <td>2</td>\n",
       "    </tr>\n",
       "    <tr>\n",
       "      <th>4</th>\n",
       "      <td>11</td>\n",
       "      <td>Drews Andrea</td>\n",
       "      <td>USA</td>\n",
       "      <td>37</td>\n",
       "      <td>32</td>\n",
       "      <td>3</td>\n",
       "      <td>2</td>\n",
       "    </tr>\n",
       "  </tbody>\n",
       "</table>\n",
       "</div>"
      ],
      "text/plain": [
       "  Shirt NumberShirt      Player NamePlayer TeamTeam PointsPts  \\\n",
       "0                 4  Vargas Melissa Teresa      TUR        65   \n",
       "1                 9      Stysiak Magdalena      POL        56   \n",
       "2                12            Li Yingying      CHN        51   \n",
       "3                11        Lukasik Martyna      POL        38   \n",
       "4                11           Drews Andrea      USA        37   \n",
       "\n",
       "  Attack PointsA Pts Block PointsB Pts Serve PointsS Pts  \n",
       "0                 55                 5                 5  \n",
       "1                 52                 1                 3  \n",
       "2                 48                 2                 1  \n",
       "3                 35                 1                 2  \n",
       "4                 32                 3                 2  "
      ]
     },
     "execution_count": 38,
     "metadata": {},
     "output_type": "execute_result"
    }
   ],
   "source": [
    "# One of the dataframes' head\n",
    "\n",
    "best_scorers.head()"
   ]
  },
  {
   "cell_type": "code",
   "execution_count": 39,
   "id": "af0890bd",
   "metadata": {
    "scrolled": true
   },
   "outputs": [
    {
     "name": "stdout",
     "output_type": "stream",
     "text": [
      "<class 'pandas.core.frame.DataFrame'>\n",
      "RangeIndex: 112 entries, 0 to 111\n",
      "Data columns (total 7 columns):\n",
      " #   Column              Non-Null Count  Dtype \n",
      "---  ------              --------------  ----- \n",
      " 0   Shirt NumberShirt   112 non-null    object\n",
      " 1   Player NamePlayer   112 non-null    object\n",
      " 2   TeamTeam            112 non-null    object\n",
      " 3   PointsPts           112 non-null    object\n",
      " 4   Attack PointsA Pts  112 non-null    object\n",
      " 5   Block PointsB Pts   112 non-null    object\n",
      " 6   Serve PointsS Pts   112 non-null    object\n",
      "dtypes: object(7)\n",
      "memory usage: 6.2+ KB\n"
     ]
    }
   ],
   "source": [
    "# Informations\n",
    "\n",
    "best_scorers.info()"
   ]
  },
  {
   "cell_type": "markdown",
   "id": "9b23034d",
   "metadata": {},
   "source": [
    "It's clear that every field has an \"object\" data type. We will convert this when using these dataframes in other platforms such as PowerBI and SQL."
   ]
  },
  {
   "cell_type": "code",
   "execution_count": 45,
   "id": "c5e9fd66",
   "metadata": {},
   "outputs": [],
   "source": [
    "# Exporting dataframes to csv files\n",
    "\n",
    "best_scorers.to_csv('best_scorers.csv', index=False)\n",
    "best_attackers.to_csv('best_attackers.csv', index=False)\n",
    "best_blockers.to_csv('best_blockers.csv', index=False)\n",
    "best_servers.to_csv('best_servers.csv', index=False)\n",
    "best_setters.to_csv('best_setters.csv', index=False)\n",
    "best_diggers.to_csv('best_diggers.csv', index=False)\n",
    "best_receivers.to_csv('best_receivers.csv', index=False)"
   ]
  },
  {
   "cell_type": "markdown",
   "id": "a8972d0d",
   "metadata": {},
   "source": [
    "The dataframes have been exported successfully."
   ]
  },
  {
   "cell_type": "markdown",
   "id": "d5fe1e42",
   "metadata": {},
   "source": [
    "## 2. Players"
   ]
  },
  {
   "cell_type": "markdown",
   "id": "145a560f",
   "metadata": {},
   "source": [
    "The player lists are spread across different links, with 16 teams competing in the tournament, resulting in 16 links for data extraction. To optimize the process, I'll employ a similar approach, utilizing dictionaries and for loops to minimize code repetition and enhance efficiency."
   ]
  },
  {
   "cell_type": "code",
   "execution_count": 4,
   "id": "fbd20996",
   "metadata": {},
   "outputs": [],
   "source": [
    "# Links of players for each team\n",
    "\n",
    "players = {'Brazil': 'https://en.volleyballworld.com/volleyball/competitions/volleyball-nations-league/2023/teams/women/5834/players/',\n",
    "           'Bulgaria': 'https://en.volleyballworld.com/volleyball/competitions/volleyball-nations-league/2023/teams/women/5835/players/',\n",
    "           'Canada': 'https://en.volleyballworld.com/volleyball/competitions/volleyball-nations-league/2023/teams/women/5836/players/',\n",
    "           'China': 'https://en.volleyballworld.com/volleyball/competitions/volleyball-nations-league/2023/teams/women/5837/players/',\n",
    "           'Croatia': 'https://en.volleyballworld.com/volleyball/competitions/volleyball-nations-league/2023/teams/women/5838/players/',\n",
    "           'Dominican Republic': 'https://en.volleyballworld.com/volleyball/competitions/volleyball-nations-league/2023/teams/women/5839/players/',\n",
    "           'Germany': 'https://en.volleyballworld.com/volleyball/competitions/volleyball-nations-league/2023/teams/women/5840/players/',\n",
    "           'Italy': 'https://en.volleyballworld.com/volleyball/competitions/volleyball-nations-league/2023/teams/women/5841/players/',\n",
    "           'Japan': 'https://en.volleyballworld.com/volleyball/competitions/volleyball-nations-league/2023/teams/women/5842/players/',\n",
    "           'Korea': 'https://en.volleyballworld.com/volleyball/competitions/volleyball-nations-league/2023/teams/women/5843/players/',\n",
    "           'Netherlands': 'https://en.volleyballworld.com/volleyball/competitions/volleyball-nations-league/2023/teams/women/5844/players/',\n",
    "           'Poland': 'https://en.volleyballworld.com/volleyball/competitions/volleyball-nations-league/2023/teams/women/5845/players/',\n",
    "           'Serbia': 'https://en.volleyballworld.com/volleyball/competitions/volleyball-nations-league/2023/teams/women/5846/players/',\n",
    "           'Thailand': 'https://en.volleyballworld.com/volleyball/competitions/volleyball-nations-league/2023/teams/women/5847/players/',\n",
    "           'Türkiye': 'https://en.volleyballworld.com/volleyball/competitions/volleyball-nations-league/2023/teams/women/5848/players/',\n",
    "           'USA': 'https://en.volleyballworld.com/volleyball/competitions/volleyball-nations-league/2023/teams/women/5849/players/',\n",
    "          }"
   ]
  },
  {
   "cell_type": "code",
   "execution_count": 14,
   "id": "4896b50a",
   "metadata": {},
   "outputs": [],
   "source": [
    "# Requests\n",
    "\n",
    "players_requests = {}\n",
    "\n",
    "for key in players.keys():\n",
    "    players_requests[key] = requests.get(players[key])"
   ]
  },
  {
   "cell_type": "code",
   "execution_count": 13,
   "id": "5520ef13",
   "metadata": {},
   "outputs": [
    {
     "data": {
      "text/plain": [
       "{'Brazil': <Response [200]>,\n",
       " 'Bulgaria': <Response [200]>,\n",
       " 'Canada': <Response [200]>,\n",
       " 'China': <Response [200]>,\n",
       " 'Croatia': <Response [200]>,\n",
       " 'Dominican Republic': <Response [200]>,\n",
       " 'Germany': <Response [200]>,\n",
       " 'Italy': <Response [200]>,\n",
       " 'Japan': <Response [200]>,\n",
       " 'Korea': <Response [200]>,\n",
       " 'Netherlands': <Response [200]>,\n",
       " 'Poland': <Response [200]>,\n",
       " 'Serbia': <Response [200]>,\n",
       " 'Thailand': <Response [200]>,\n",
       " 'Türkiye': <Response [200]>,\n",
       " 'USA': <Response [200]>}"
      ]
     },
     "execution_count": 13,
     "metadata": {},
     "output_type": "execute_result"
    }
   ],
   "source": [
    "# Checking if the request was successful (status code 200).\n",
    "\n",
    "players_requests"
   ]
  },
  {
   "cell_type": "code",
   "execution_count": 18,
   "id": "61f5d91e",
   "metadata": {},
   "outputs": [],
   "source": [
    "# BeautifulSoup and HTML texts\n",
    "\n",
    "soup_players = {}\n",
    "\n",
    "for key in players_requests.keys():\n",
    "    soup_players[key] = BeautifulSoup(players_requests[key].text, 'lxml')\n",
    "    \n",
    "table_players = {}\n",
    "\n",
    "for key in soup_players.keys():\n",
    "    table_players[key] = soup_players[key].find('table')"
   ]
  },
  {
   "cell_type": "code",
   "execution_count": 21,
   "id": "be6493eb",
   "metadata": {},
   "outputs": [],
   "source": [
    "# Creating a dataframe for each team\n",
    "\n",
    "dataframes_players = {}\n",
    "\n",
    "for key in table.keys():\n",
    "    dataframes_players[key] = create_table(table[key])"
   ]
  },
  {
   "cell_type": "code",
   "execution_count": 29,
   "id": "3e6198b3",
   "metadata": {},
   "outputs": [],
   "source": [
    "# Indicating the abbreviation for each team in a column.\n",
    "\n",
    "dataframes_players['Brazil']['Team'] = 'BRA'\n",
    "dataframes_players['Bulgaria']['Team'] = 'BUL'\n",
    "dataframes_players['Canada']['Team'] = 'CAN'\n",
    "dataframes_players['China']['Team'] = 'CHN'\n",
    "dataframes_players['Croatia']['Team'] = 'CRO'\n",
    "dataframes_players['Dominican Republic']['Team'] = 'DOM'\n",
    "dataframes_players['Germany']['Team'] = 'GER'\n",
    "dataframes_players['Italy']['Team'] = 'ITA'\n",
    "dataframes_players['Japan']['Team'] = 'JPN'\n",
    "dataframes_players['Korea']['Team'] = 'KOR'\n",
    "dataframes_players['Netherlands']['Team'] = 'NED'\n",
    "dataframes_players['Poland']['Team'] = 'POL'\n",
    "dataframes_players['Serbia']['Team'] = 'SRB'\n",
    "dataframes_players['Thailand']['Team'] = 'THA'\n",
    "dataframes_players['Türkiye']['Team'] = 'TUR'\n",
    "dataframes_players['USA']['Team'] = 'USA'"
   ]
  },
  {
   "cell_type": "code",
   "execution_count": 38,
   "id": "f4f2c503",
   "metadata": {},
   "outputs": [
    {
     "data": {
      "text/html": [
       "<div>\n",
       "<style scoped>\n",
       "    .dataframe tbody tr th:only-of-type {\n",
       "        vertical-align: middle;\n",
       "    }\n",
       "\n",
       "    .dataframe tbody tr th {\n",
       "        vertical-align: top;\n",
       "    }\n",
       "\n",
       "    .dataframe thead th {\n",
       "        text-align: right;\n",
       "    }\n",
       "</style>\n",
       "<table border=\"1\" class=\"dataframe\">\n",
       "  <thead>\n",
       "    <tr style=\"text-align: right;\">\n",
       "      <th></th>\n",
       "      <th>No.</th>\n",
       "      <th>Player Name</th>\n",
       "      <th>Position</th>\n",
       "      <th>Team</th>\n",
       "    </tr>\n",
       "  </thead>\n",
       "  <tbody>\n",
       "    <tr>\n",
       "      <th>0</th>\n",
       "      <td>2</td>\n",
       "      <td>Duarte Alecrim Diana</td>\n",
       "      <td>MB</td>\n",
       "      <td>BRA</td>\n",
       "    </tr>\n",
       "    <tr>\n",
       "      <th>1</th>\n",
       "      <td>3</td>\n",
       "      <td>Alexandre Costa Nunes Nyeme Victoria</td>\n",
       "      <td>L</td>\n",
       "      <td>BRA</td>\n",
       "    </tr>\n",
       "    <tr>\n",
       "      <th>2</th>\n",
       "      <td>5</td>\n",
       "      <td>Zalewski Daroit Priscila</td>\n",
       "      <td>OH</td>\n",
       "      <td>BRA</td>\n",
       "    </tr>\n",
       "    <tr>\n",
       "      <th>3</th>\n",
       "      <td>6</td>\n",
       "      <td>Daher de Menezes Thaisa</td>\n",
       "      <td>MB</td>\n",
       "      <td>BRA</td>\n",
       "    </tr>\n",
       "    <tr>\n",
       "      <th>4</th>\n",
       "      <td>7</td>\n",
       "      <td>Montibeller Rosamaria</td>\n",
       "      <td>OH</td>\n",
       "      <td>BRA</td>\n",
       "    </tr>\n",
       "    <tr>\n",
       "      <th>...</th>\n",
       "      <td>...</td>\n",
       "      <td>...</td>\n",
       "      <td>...</td>\n",
       "      <td>...</td>\n",
       "    </tr>\n",
       "    <tr>\n",
       "      <th>234</th>\n",
       "      <td>24</td>\n",
       "      <td>Ogbogu Chiaka</td>\n",
       "      <td>MB</td>\n",
       "      <td>USA</td>\n",
       "    </tr>\n",
       "    <tr>\n",
       "      <th>235</th>\n",
       "      <td>26</td>\n",
       "      <td>O'Neal Asjia</td>\n",
       "      <td>MB</td>\n",
       "      <td>USA</td>\n",
       "    </tr>\n",
       "    <tr>\n",
       "      <th>236</th>\n",
       "      <td>27</td>\n",
       "      <td>Skinner Avery</td>\n",
       "      <td>OH</td>\n",
       "      <td>USA</td>\n",
       "    </tr>\n",
       "    <tr>\n",
       "      <th>237</th>\n",
       "      <td>29</td>\n",
       "      <td>Lanier Khalia</td>\n",
       "      <td>OH</td>\n",
       "      <td>USA</td>\n",
       "    </tr>\n",
       "    <tr>\n",
       "      <th>238</th>\n",
       "      <td></td>\n",
       "      <td>Karch Kiraly</td>\n",
       "      <td>COACH</td>\n",
       "      <td>USA</td>\n",
       "    </tr>\n",
       "  </tbody>\n",
       "</table>\n",
       "<p>239 rows × 4 columns</p>\n",
       "</div>"
      ],
      "text/plain": [
       "    No.                           Player Name Position Team\n",
       "0     2                  Duarte Alecrim Diana       MB  BRA\n",
       "1     3  Alexandre Costa Nunes Nyeme Victoria        L  BRA\n",
       "2     5              Zalewski Daroit Priscila       OH  BRA\n",
       "3     6               Daher de Menezes Thaisa       MB  BRA\n",
       "4     7                 Montibeller Rosamaria       OH  BRA\n",
       "..   ..                                   ...      ...  ...\n",
       "234  24                         Ogbogu Chiaka       MB  USA\n",
       "235  26                          O'Neal Asjia       MB  USA\n",
       "236  27                         Skinner Avery       OH  USA\n",
       "237  29                         Lanier Khalia       OH  USA\n",
       "238                              Karch Kiraly    COACH  USA\n",
       "\n",
       "[239 rows x 4 columns]"
      ]
     },
     "execution_count": 38,
     "metadata": {},
     "output_type": "execute_result"
    }
   ],
   "source": [
    "all_players = pd.concat(objs = dataframes_players, axis = 0, ignore_index = True)\n",
    "\n",
    "all_players"
   ]
  },
  {
   "cell_type": "code",
   "execution_count": 39,
   "id": "dd3d4489",
   "metadata": {},
   "outputs": [],
   "source": [
    "# Exporting dataframe to csv file\n",
    "\n",
    "all_players.to_csv('players.csv', index=False)"
   ]
  },
  {
   "cell_type": "markdown",
   "id": "13a96ac8",
   "metadata": {},
   "source": [
    "The dataframes have been exported successfully."
   ]
  }
 ],
 "metadata": {
  "kernelspec": {
   "display_name": "Python 3 (ipykernel)",
   "language": "python",
   "name": "python3"
  },
  "language_info": {
   "codemirror_mode": {
    "name": "ipython",
    "version": 3
   },
   "file_extension": ".py",
   "mimetype": "text/x-python",
   "name": "python",
   "nbconvert_exporter": "python",
   "pygments_lexer": "ipython3",
   "version": "3.9.13"
  }
 },
 "nbformat": 4,
 "nbformat_minor": 5
}
